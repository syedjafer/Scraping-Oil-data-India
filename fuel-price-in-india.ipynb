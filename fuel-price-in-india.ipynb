{
 "cells": [
  {
   "cell_type": "markdown",
   "metadata": {},
   "source": [
    "<font size=6> Fuel Price in India </font>\n",
    "\n",
    "The data is daily diesel price across the various city in India. The charge varies state to state has Indian state government levy extra tax on the fuel. The government changed over time. The new fuel charge update rule came into effect.\n",
    "\n",
    "**Content**\n",
    "\n",
    "The data consist of the date, fuel price and city name. There are a total of seven cities, such as Bengaluru, Chennai, Mumbai, Hyderabad, Delhi, Kolkata and Coimbatore.\n",
    "\n",
    "* source: [mypetrolprice.com](https://www.mypetrolprice.com/diesel-price-in-india.aspx)\n",
    "\n",
    "<center><img src='fuel_station.jpg'></center>\n",
    "\n",
    "***\n",
    "**Steps**\n",
    "1. [Explore data set](#Explore-data-set)\n"
   ]
  },
  {
   "cell_type": "markdown",
   "metadata": {},
   "source": [
    "# Import library"
   ]
  },
  {
   "cell_type": "code",
   "execution_count": 5,
   "metadata": {},
   "outputs": [],
   "source": [
    "import pandas as pd\n",
    "import numpy as np\n",
    "import seaborn as sns\n",
    "import matplotlib.pyplot as plt\n",
    "import os"
   ]
  },
  {
   "cell_type": "markdown",
   "metadata": {},
   "source": [
    "# Import data set"
   ]
  },
  {
   "cell_type": "code",
   "execution_count": 2,
   "metadata": {},
   "outputs": [
    {
     "output_type": "stream",
     "name": "stdout",
     "text": [
      "Number of rows and columns in data set (17235, 4)\n"
     ]
    }
   ],
   "source": [
    "path ='dataset/'\n",
    "#path = '../input/'\n",
    "\n",
    "df = pd.read_csv(path+'diesel.csv')\n",
    "print('Number of rows and columns in data set',df.shape)"
   ]
  },
  {
   "cell_type": "code",
   "execution_count": 24,
   "metadata": {},
   "outputs": [],
   "source": [
    "# city = {1:\"Bengaluru\",2:\"Chennai\",3:\"Mumbai\",4:\"Hyderabad\",5:\"Delhi\",6:\"Kolkata\",7:\"Coimbatore\"}\n",
    "# df['cityid'] = df['cityid'].replace(city)"
   ]
  },
  {
   "cell_type": "code",
   "execution_count": 10,
   "metadata": {},
   "outputs": [],
   "source": [
    "state1 = {\n",
    "    \"Meerut\": \"Uttar Pradesh\",\n",
    "    \"Varanasi\": \"Uttar Pradesh\",\n",
    "    \"Allahabad\": \"Uttar Pradesh\",\n",
    "    \"Madurai\": \"Tamil Nadu\",\n",
    "    \"Shillong\": \"Meghalaya\",\n",
    "    \"Karaikal\": \"Puducherry\",\n",
    "    \"Aizwal\": \"Mizoram\",\n",
    "    \"Dimapur\": \"Nagaland\",\n",
    "    \"Agartala\": \"Tripura\",\n",
    "    \"Nizamabad\": \"Telangana\",\n",
    "    \"Pondicherry\": \"Pondicherry\",\n",
    "    \"Haridwar\": \"Uttarakhand\",\n",
    "    \"Bengaluru\": \"Karnataka\",\n",
    "    \"Chennai\": \"Tamil Nadu\",\n",
    "    \"Mumbai\": \"Maharashtra\",\n",
    "    \"Hyderabad\": \"Telangana\",\n",
    "    \"Delhi\": \"Delhi\",\n",
    "    \"Kolkata\": \"West Bengal\",\n",
    "    \"Coimbatore\": \"Tamil Nadu\",\n",
    "}"
   ]
  },
  {
   "cell_type": "code",
   "execution_count": 13,
   "metadata": {},
   "outputs": [],
   "source": [
    "df['state'] = df['city'].replace(state1)"
   ]
  },
  {
   "cell_type": "code",
   "execution_count": 14,
   "metadata": {},
   "outputs": [
    {
     "data": {
      "text/html": [
       "<div>\n",
       "<style scoped>\n",
       "    .dataframe tbody tr th:only-of-type {\n",
       "        vertical-align: middle;\n",
       "    }\n",
       "\n",
       "    .dataframe tbody tr th {\n",
       "        vertical-align: top;\n",
       "    }\n",
       "\n",
       "    .dataframe thead th {\n",
       "        text-align: right;\n",
       "    }\n",
       "</style>\n",
       "<table border=\"1\" class=\"dataframe\">\n",
       "  <thead>\n",
       "    <tr style=\"text-align: right;\">\n",
       "      <th></th>\n",
       "      <th>rate</th>\n",
       "      <th>city</th>\n",
       "      <th>date</th>\n",
       "      <th>state</th>\n",
       "    </tr>\n",
       "  </thead>\n",
       "  <tbody>\n",
       "    <tr>\n",
       "      <th>0</th>\n",
       "      <td>18.23</td>\n",
       "      <td>Delhi</td>\n",
       "      <td>2002-06-16</td>\n",
       "      <td>Delhi</td>\n",
       "    </tr>\n",
       "    <tr>\n",
       "      <th>1</th>\n",
       "      <td>20.06</td>\n",
       "      <td>Chennai</td>\n",
       "      <td>2002-07-01</td>\n",
       "      <td>Tamil Nadu</td>\n",
       "    </tr>\n",
       "    <tr>\n",
       "      <th>2</th>\n",
       "      <td>18.23</td>\n",
       "      <td>Delhi</td>\n",
       "      <td>2002-07-01</td>\n",
       "      <td>Delhi</td>\n",
       "    </tr>\n",
       "    <tr>\n",
       "      <th>3</th>\n",
       "      <td>20.06</td>\n",
       "      <td>Chennai</td>\n",
       "      <td>2002-08-01</td>\n",
       "      <td>Tamil Nadu</td>\n",
       "    </tr>\n",
       "    <tr>\n",
       "      <th>4</th>\n",
       "      <td>18.23</td>\n",
       "      <td>Delhi</td>\n",
       "      <td>2002-08-01</td>\n",
       "      <td>Delhi</td>\n",
       "    </tr>\n",
       "  </tbody>\n",
       "</table>\n",
       "</div>"
      ],
      "text/plain": [
       "    rate     city        date       state\n",
       "0  18.23    Delhi  2002-06-16       Delhi\n",
       "1  20.06  Chennai  2002-07-01  Tamil Nadu\n",
       "2  18.23    Delhi  2002-07-01       Delhi\n",
       "3  20.06  Chennai  2002-08-01  Tamil Nadu\n",
       "4  18.23    Delhi  2002-08-01       Delhi"
      ]
     },
     "execution_count": 14,
     "metadata": {},
     "output_type": "execute_result"
    }
   ],
   "source": [
    "df.head()"
   ]
  },
  {
   "cell_type": "markdown",
   "metadata": {},
   "source": [
    "1. Bengaluru \n",
    "1. Chennai \n",
    "2. Mumbai \n",
    "3. Hyderabad \n",
    "4. Delhi \n",
    "5. Kolkata \n",
    "6. Coimbatore"
   ]
  },
  {
   "cell_type": "code",
   "execution_count": 28,
   "metadata": {},
   "outputs": [],
   "source": [
    "# cols = ['BaseRate','cityid','Date']\n",
    "# df1 = df[cols]\n",
    "# columns = {'BaseRate':'rate','cityid':'city','Date':'date'}\n",
    "# df1 = df1.rename(columns=columns)\n",
    "# df.to_csv('dataset/diesel.csv',index=False)"
   ]
  },
  {
   "cell_type": "code",
   "execution_count": 3,
   "metadata": {},
   "outputs": [
    {
     "output_type": "stream",
     "name": "stdout",
     "text": [
      "Number of rows and columns value data set (17235, 4)\n"
     ]
    }
   ],
   "source": [
    "path ='dataset/'\n",
    "#path = '../input/'\n",
    "\n",
    "df = pd.read_csv(path+'diesel.csv')\n",
    "print('Number of rows and columns value data set',df.shape)"
   ]
  },
  {
   "cell_type": "code",
   "execution_count": 4,
   "metadata": {},
   "outputs": [
    {
     "output_type": "execute_result",
     "data": {
      "text/plain": [
       "           city        date   rate          state\n",
       "17230  Varanasi  2020-12-27  74.84  Uttar Pradesh\n",
       "17231  Varanasi  2020-12-28  74.84  Uttar Pradesh\n",
       "17232  Varanasi  2020-12-29  74.84  Uttar Pradesh\n",
       "17233  Varanasi  2020-12-30  74.84  Uttar Pradesh\n",
       "17234  Varanasi  2020-12-31  74.84  Uttar Pradesh"
      ],
      "text/html": "<div>\n<style scoped>\n    .dataframe tbody tr th:only-of-type {\n        vertical-align: middle;\n    }\n\n    .dataframe tbody tr th {\n        vertical-align: top;\n    }\n\n    .dataframe thead th {\n        text-align: right;\n    }\n</style>\n<table border=\"1\" class=\"dataframe\">\n  <thead>\n    <tr style=\"text-align: right;\">\n      <th></th>\n      <th>city</th>\n      <th>date</th>\n      <th>rate</th>\n      <th>state</th>\n    </tr>\n  </thead>\n  <tbody>\n    <tr>\n      <th>17230</th>\n      <td>Varanasi</td>\n      <td>2020-12-27</td>\n      <td>74.84</td>\n      <td>Uttar Pradesh</td>\n    </tr>\n    <tr>\n      <th>17231</th>\n      <td>Varanasi</td>\n      <td>2020-12-28</td>\n      <td>74.84</td>\n      <td>Uttar Pradesh</td>\n    </tr>\n    <tr>\n      <th>17232</th>\n      <td>Varanasi</td>\n      <td>2020-12-29</td>\n      <td>74.84</td>\n      <td>Uttar Pradesh</td>\n    </tr>\n    <tr>\n      <th>17233</th>\n      <td>Varanasi</td>\n      <td>2020-12-30</td>\n      <td>74.84</td>\n      <td>Uttar Pradesh</td>\n    </tr>\n    <tr>\n      <th>17234</th>\n      <td>Varanasi</td>\n      <td>2020-12-31</td>\n      <td>74.84</td>\n      <td>Uttar Pradesh</td>\n    </tr>\n  </tbody>\n</table>\n</div>"
     },
     "metadata": {},
     "execution_count": 4
    }
   ],
   "source": [
    "df.tail()"
   ]
  },
  {
   "cell_type": "code",
   "execution_count": 5,
   "metadata": {},
   "outputs": [],
   "source": [
    "files = []\n",
    "for f in os.scandir('dataset/'):\n",
    "    f = 'dataset/'+f.name\n",
    "    d = pd.read_csv(f)\n",
    "    files.append(d)\n",
    "\n",
    "# combine\n",
    "df_new = pd.concat(files,axis=0)\n",
    "df_new = df_new.reset_index(drop=True)"
   ]
  },
  {
   "cell_type": "code",
   "execution_count": 5,
   "metadata": {},
   "outputs": [],
   "source": [
    "drop_city = df_new.groupby('city').agg(cnt= ('city','count')).query('cnt <10 ').index.values\n",
    "df_new1 = df_new[~df_new['city'].isin(drop_city)].reset_index(drop=True)"
   ]
  },
  {
   "cell_type": "code",
   "execution_count": 28,
   "metadata": {},
   "outputs": [
    {
     "data": {
      "text/html": [
       "<div>\n",
       "<style scoped>\n",
       "    .dataframe tbody tr th:only-of-type {\n",
       "        vertical-align: middle;\n",
       "    }\n",
       "\n",
       "    .dataframe tbody tr th {\n",
       "        vertical-align: top;\n",
       "    }\n",
       "\n",
       "    .dataframe thead th {\n",
       "        text-align: right;\n",
       "    }\n",
       "</style>\n",
       "<table border=\"1\" class=\"dataframe\">\n",
       "  <thead>\n",
       "    <tr style=\"text-align: right;\">\n",
       "      <th></th>\n",
       "      <th>cnt</th>\n",
       "    </tr>\n",
       "    <tr>\n",
       "      <th>city</th>\n",
       "      <th></th>\n",
       "    </tr>\n",
       "  </thead>\n",
       "  <tbody>\n",
       "    <tr>\n",
       "      <th>Agartala</th>\n",
       "      <td>836</td>\n",
       "    </tr>\n",
       "    <tr>\n",
       "      <th>Aizwal</th>\n",
       "      <td>964</td>\n",
       "    </tr>\n",
       "    <tr>\n",
       "      <th>Allahabad</th>\n",
       "      <td>820</td>\n",
       "    </tr>\n",
       "    <tr>\n",
       "      <th>Bengaluru</th>\n",
       "      <td>1114</td>\n",
       "    </tr>\n",
       "    <tr>\n",
       "      <th>Chennai</th>\n",
       "      <td>1174</td>\n",
       "    </tr>\n",
       "    <tr>\n",
       "      <th>Coimbatore</th>\n",
       "      <td>966</td>\n",
       "    </tr>\n",
       "    <tr>\n",
       "      <th>Delhi</th>\n",
       "      <td>1174</td>\n",
       "    </tr>\n",
       "    <tr>\n",
       "      <th>Dimapur</th>\n",
       "      <td>824</td>\n",
       "    </tr>\n",
       "    <tr>\n",
       "      <th>Haridwar</th>\n",
       "      <td>408</td>\n",
       "    </tr>\n",
       "    <tr>\n",
       "      <th>Hyderabad</th>\n",
       "      <td>1118</td>\n",
       "    </tr>\n",
       "    <tr>\n",
       "      <th>Karaikal</th>\n",
       "      <td>408</td>\n",
       "    </tr>\n",
       "    <tr>\n",
       "      <th>Kolkata</th>\n",
       "      <td>1162</td>\n",
       "    </tr>\n",
       "    <tr>\n",
       "      <th>Madurai</th>\n",
       "      <td>824</td>\n",
       "    </tr>\n",
       "    <tr>\n",
       "      <th>Meerut</th>\n",
       "      <td>824</td>\n",
       "    </tr>\n",
       "    <tr>\n",
       "      <th>Mumbai</th>\n",
       "      <td>1174</td>\n",
       "    </tr>\n",
       "    <tr>\n",
       "      <th>Nizamabad</th>\n",
       "      <td>824</td>\n",
       "    </tr>\n",
       "    <tr>\n",
       "      <th>Pondicherry</th>\n",
       "      <td>968</td>\n",
       "    </tr>\n",
       "    <tr>\n",
       "      <th>Shillong</th>\n",
       "      <td>968</td>\n",
       "    </tr>\n",
       "    <tr>\n",
       "      <th>Varanasi</th>\n",
       "      <td>824</td>\n",
       "    </tr>\n",
       "  </tbody>\n",
       "</table>\n",
       "</div>"
      ],
      "text/plain": [
       "              cnt\n",
       "city             \n",
       "Agartala      836\n",
       "Aizwal        964\n",
       "Allahabad     820\n",
       "Bengaluru    1114\n",
       "Chennai      1174\n",
       "Coimbatore    966\n",
       "Delhi        1174\n",
       "Dimapur       824\n",
       "Haridwar      408\n",
       "Hyderabad    1118\n",
       "Karaikal      408\n",
       "Kolkata      1162\n",
       "Madurai       824\n",
       "Meerut        824\n",
       "Mumbai       1174\n",
       "Nizamabad     824\n",
       "Pondicherry   968\n",
       "Shillong      968\n",
       "Varanasi      824"
      ]
     },
     "execution_count": 28,
     "metadata": {},
     "output_type": "execute_result"
    }
   ],
   "source": [
    "df_new1.groupby('city').agg(cnt= ('city','count'))"
   ]
  },
  {
   "cell_type": "code",
   "execution_count": 9,
   "metadata": {},
   "outputs": [],
   "source": [
    "df_new['state'] = df_new['city'].replace(state1)"
   ]
  },
  {
   "cell_type": "code",
   "execution_count": 10,
   "metadata": {},
   "outputs": [],
   "source": [
    "df_new['date'] = pd.to_datetime(df_new['date'])\n",
    "df_new2 = df_new.query('date < \"2021-01-01\"').reset_index(drop=True)\n",
    "df_new2.to_csv('diesel.csv',index=False)"
   ]
  },
  {
   "cell_type": "code",
   "execution_count": 43,
   "metadata": {},
   "outputs": [],
   "source": []
  }
 ],
 "metadata": {
  "kernelspec": {
   "display_name": "Python 3",
   "language": "python",
   "name": "python3"
  },
  "language_info": {
   "codemirror_mode": {
    "name": "ipython",
    "version": 3
   },
   "file_extension": ".py",
   "mimetype": "text/x-python",
   "name": "python",
   "nbconvert_exporter": "python",
   "pygments_lexer": "ipython3",
   "version": "3.8.5-final"
  }
 },
 "nbformat": 4,
 "nbformat_minor": 4
}